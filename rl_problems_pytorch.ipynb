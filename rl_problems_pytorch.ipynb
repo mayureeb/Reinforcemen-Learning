{
  "nbformat": 4,
  "nbformat_minor": 0,
  "metadata": {
    "colab": {
      "name": "rl_hw_problems.ipynb",
      "version": "0.3.2",
      "provenance": [],
      "toc_visible": true
    },
    "kernelspec": {
      "display_name": "Python 3",
      "language": "python",
      "name": "python3"
    }
  },
  "cells": [
    {
      "metadata": {
        "id": "O0fFgFRGksH6",
        "colab_type": "text"
      },
      "cell_type": "markdown",
      "source": [
        "## Installation\n",
        "\n",
        "To run this you need several packages. First of all, you need anaconda, which you most likely already have if you're viewing this through jupyter. If not then check the readme on the class page.\n",
        "\n",
        "System requirements: This should work on all operating systems (Linux, Mac, and Windows). However, several of the environments in the OpenAI-gym require additional simulators which don't aren't easy to get on Windows. In any case, it is strongly recommended that you use Linux, although you should be ok with Mac. (HINT: if you're on Windows check out the Windows Subsystem for Linux (WSL), although it'll make visualizing your policies a little tricky).\n",
        "\n",
        "Then install the following packages (using conda or pip):\n",
        "\n",
        "- pytorch --> `conda install pytorch -c pytorch`\n",
        "- gym --> `pip install gym`\n",
        "- gym (the cool environments, doesnt work on Windows) --> `pip install gym[all]`\n",
        "(When install gym[all] don't worry if the mujoco installation doesn't work. That's a more advanced 3D physics simulator that has to be set up separately (see website). Anyway, we don't need it necessarily)."
      ]
    },
    {
      "metadata": {
        "id": "rR2e3qeJeIQF",
        "colab_type": "code",
        "colab": {
          "base_uri": "https://localhost:8080/",
          "height": 179
        },
        "outputId": "a0405114-91c6-441e-9845-dcf73f30ebfb"
      },
      "cell_type": "code",
      "source": [
        "!pip install box2d-py"
      ],
      "execution_count": 1,
      "outputs": [
        {
          "output_type": "stream",
          "text": [
            "Collecting box2d-py\n",
            "\u001b[?25l  Downloading https://files.pythonhosted.org/packages/06/bd/6cdc3fd994b0649dcf5d9bad85bd9e26172308bbe9a421bfc6fdbf5081a6/box2d_py-2.3.8-cp36-cp36m-manylinux1_x86_64.whl (448kB)\n",
            "\u001b[K    100% |████████████████████████████████| 450kB 8.2MB/s \n",
            "\u001b[?25hInstalling collected packages: box2d-py\n",
            "Successfully installed box2d-py-2.3.8\n"
          ],
          "name": "stdout"
        }
      ]
    },
    {
      "metadata": {
        "colab_type": "code",
        "id": "nomKMuz0lrWL",
        "colab": {
          "base_uri": "https://localhost:8080/",
          "height": 1020
        },
        "outputId": "38074d86-fea2-4d94-9b6c-8c88d88d77c2"
      },
      "cell_type": "code",
      "source": [
        "# If you're using colab, this will install the necessary packages!\n",
        "!pip install torch\n",
        "!pip install gym\n",
        "!wget https://pjreddie.com/media/files/rlhw_util.py"
      ],
      "execution_count": 2,
      "outputs": [
        {
          "output_type": "stream",
          "text": [
            "Collecting torch\n",
            "\u001b[?25l  Downloading https://files.pythonhosted.org/packages/7e/60/66415660aa46b23b5e1b72bc762e816736ce8d7260213e22365af51e8f9c/torch-1.0.0-cp36-cp36m-manylinux1_x86_64.whl (591.8MB)\n",
            "\u001b[K    100% |████████████████████████████████| 591.8MB 16kB/s \n",
            "tcmalloc: large alloc 1073750016 bytes == 0x61300000 @  0x7f1420f722a4 0x591a07 0x5b5d56 0x502e9a 0x506859 0x502209 0x502f3d 0x506859 0x504c28 0x502540 0x502f3d 0x506859 0x504c28 0x502540 0x502f3d 0x506859 0x504c28 0x502540 0x502f3d 0x507641 0x502209 0x502f3d 0x506859 0x504c28 0x502540 0x502f3d 0x507641 0x504c28 0x502540 0x502f3d 0x507641\n",
            "\u001b[?25hInstalling collected packages: torch\n",
            "Successfully installed torch-1.0.0\n",
            "Requirement already satisfied: gym in /usr/local/lib/python3.6/dist-packages (0.10.9)\n",
            "Requirement already satisfied: scipy in /usr/local/lib/python3.6/dist-packages (from gym) (1.1.0)\n",
            "Requirement already satisfied: numpy>=1.10.4 in /usr/local/lib/python3.6/dist-packages (from gym) (1.14.6)\n",
            "Requirement already satisfied: requests>=2.0 in /usr/local/lib/python3.6/dist-packages (from gym) (2.18.4)\n",
            "Requirement already satisfied: six in /usr/local/lib/python3.6/dist-packages (from gym) (1.11.0)\n",
            "Requirement already satisfied: pyglet>=1.2.0 in /usr/local/lib/python3.6/dist-packages (from gym) (1.3.2)\n",
            "Requirement already satisfied: chardet<3.1.0,>=3.0.2 in /usr/local/lib/python3.6/dist-packages (from requests>=2.0->gym) (3.0.4)\n",
            "Requirement already satisfied: certifi>=2017.4.17 in /usr/local/lib/python3.6/dist-packages (from requests>=2.0->gym) (2018.11.29)\n",
            "Requirement already satisfied: idna<2.7,>=2.5 in /usr/local/lib/python3.6/dist-packages (from requests>=2.0->gym) (2.6)\n",
            "Requirement already satisfied: urllib3<1.23,>=1.21.1 in /usr/local/lib/python3.6/dist-packages (from requests>=2.0->gym) (1.22)\n",
            "Requirement already satisfied: future in /usr/local/lib/python3.6/dist-packages (from pyglet>=1.2.0->gym) (0.16.0)\n",
            "--2018-12-16 21:45:39--  https://pjreddie.com/media/files/rlhw_util.py\n",
            "Resolving pjreddie.com (pjreddie.com)... 128.208.3.39\n",
            "Connecting to pjreddie.com (pjreddie.com)|128.208.3.39|:443... connected.\n",
            "HTTP request sent, awaiting response... 200 OK\n",
            "Length: 4071 (4.0K) [application/octet-stream]\n",
            "Saving to: ‘rlhw_util.py’\n",
            "\n",
            "rlhw_util.py        100%[===================>]   3.98K  --.-KB/s    in 0s      \n",
            "\n",
            "2018-12-16 21:45:40 (279 MB/s) - ‘rlhw_util.py’ saved [4071/4071]\n",
            "\n"
          ],
          "name": "stdout"
        }
      ]
    },
    {
      "metadata": {
        "id": "NzmPUAD1ksH7",
        "colab_type": "code",
        "colab": {}
      },
      "cell_type": "code",
      "source": [
        "%matplotlib inline\n",
        "import sys, os, time\n",
        "import numpy as np\n",
        "import matplotlib.pyplot as plt\n",
        "import torch\n",
        "import torch.nn as nn\n",
        "import torch.optim as optim\n",
        "import torch.nn.functional as F\n",
        "import torch.multiprocessing as mp\n",
        "from torch import distributions\n",
        "from torch.distributions import Categorical\n",
        "from itertools import islice\n",
        "\n",
        "import gym\n",
        "import Box2D\n",
        "from copy import copy, deepcopy\n",
        "import pickle"
      ],
      "execution_count": 0,
      "outputs": []
    },
    {
      "metadata": {
        "id": "WXry0cZLksH_",
        "colab_type": "text"
      },
      "cell_type": "markdown",
      "source": [
        "# Introduction\n",
        "Welcome to the RL playground. Your task is to implement the REINFORCE and A3C algorithm to solve various OpenAI-gym environments. If you are not familiar with OpenAI-gym, stop reading and visit https://gym.openai.com/envs/ to see all the tasks you can try to solve.\n",
        "\n",
        "In this homework, we will only look at tasks with a discrete (and small) action space. That being said, both algorithms can be modified slightly to work on tasks with continuous action spaces. For full credit you must fill in the code below so you achieve an average total reward per episode on the cartpole task (CartPole-v1) of at least 499 (for an episode length of 500) for both REINFORCE and A3C. Then you must apply your code to any one other environment in OpenAI-gym, and plot and compare the learning curves (average total reward per episode vs number of episodes trained on) between REINFORCE and A3C (where at least one of the algorithms shows significant improvement from initialization).\n",
        "\n",
        "Below there's an overview of what every iteration will look like, regardless of whether you want to train or evaluate your agent."
      ]
    },
    {
      "metadata": {
        "id": "IBY204WCksIA",
        "colab_type": "code",
        "colab": {}
      },
      "cell_type": "code",
      "source": [
        "from rlhw_util import * # <-- look whats inside here - it could save you a lot of work!\n",
        "\n",
        "def run_iteration(mode, N, agent, gen, horizon=None, render=False):\n",
        "    train = mode == 'train'\n",
        "    if train:\n",
        "        agent.train()\n",
        "    else:\n",
        "        agent.eval()\n",
        "\n",
        "    states, actions, rewards = zip(*[gen(horizon=horizon, render=render) for _ in range(N)])\n",
        "\n",
        "    loss = None\n",
        "    if train:\n",
        "        loss = agent.learn(states, actions, rewards)\n",
        "\n",
        "    reward = sum([r.sum() for r in rewards]) / N\n",
        "\n",
        "    return reward, loss"
      ],
      "execution_count": 0,
      "outputs": []
    },
    {
      "metadata": {
        "id": "FbOI_tXDksIC",
        "colab_type": "text"
      },
      "cell_type": "markdown",
      "source": [
        "## The Actor\n",
        "\n",
        "We need to learn a policy which, given some state, outputs a distribution over all possible actions. As this is deep RL, we'll use a deep neural network to turn the observed state into the requisite action distribution. From this action distribution we can choose what action to take using `get_action`. Pytorch, brilliant as it is, makes our task incredibly easy, as we can use the `torch.distributions.Categorical` class for sampling.\n",
        "\n",
        "You can experiment with all sorts of network architectures, but remember this is RL, not image classification on ImageNet, so you probably won't need a very deep network (HINT: look below at the state and action dimensionality to get a feel for the task)."
      ]
    },
    {
      "metadata": {
        "id": "QkW0tUvZksID",
        "colab_type": "code",
        "colab": {}
      },
      "cell_type": "code",
      "source": [
        "class Actor(nn.Module):\n",
        "    def __init__(self, state_dim, action_dim):\n",
        "        super(Actor, self).__init__()\n",
        "        \n",
        "        # TODO: Fill in the code to define you policy\n",
        "        self.fc1 = nn.Linear(state_dim, 128)\n",
        "        self.fc2 = nn.Linear(128, action_dim)\n",
        "        \n",
        "        #raise NotImplementedError\n",
        "        \n",
        "    def forward(self, state):\n",
        "        \n",
        "        # TODO: Fill in the code to run a forward pass of your policy to get a distribution over actions (HINT: probabilities sum to 1)\n",
        "        state = F.relu(self.fc1(state))\n",
        "        return F.softmax(self.fc2(state))\n",
        "        #raise NotImplementedError\n",
        "\n",
        "    def get_policy(self, state):\n",
        "        return Categorical(self(state))\n",
        "\n",
        "    def get_action(self, state, greedy=None):\n",
        "        if greedy is None:\n",
        "            greedy = not self.training\n",
        "\n",
        "        policy = self.get_policy(state)\n",
        "        return MLE(policy) if greedy else policy.sample()"
      ],
      "execution_count": 0,
      "outputs": []
    },
    {
      "metadata": {
        "id": "5NYbREzFksIF",
        "colab_type": "text"
      },
      "cell_type": "markdown",
      "source": [
        "## The REINFORCE Agent\n",
        "\n",
        "The Actor defines our policy, but we also have to define how and when we'll be updating our policy, which brings us to the agent. The agent will house the policy (an `Actor`), and can then be used to generate rollouts (using `forward()`) or update the policy given a list of rollouts (using `learn()`).\n",
        "\n",
        "The REINFORCE algorithm naively uses the returns directly to weight the gradients, however this makes the variance in the policy gradient estimation very large. As a result, we will use a baseline which is a linear model which takes in a state and outputs the return (sounds like a value function, right?). Except we're not going to train our baseline using gradient descent, instead we'll just solve the linear system analytically in every iteration, and use the solution in the next iteration. Don't worry about training/updating the baseline, but you do have to use it in the right way. (Optional experiment: try removing the baseline and see how performance changes)"
      ]
    },
    {
      "metadata": {
        "id": "nQ7mlwvLksIG",
        "colab_type": "code",
        "colab": {}
      },
      "cell_type": "code",
      "source": [
        "class REINFORCE(nn.Module):\n",
        "    \n",
        "    def __init__(self, state_dim, action_dim, discount=0.97, lr=1e-3, weight_decay=1e-4):\n",
        "        super(REINFORCE, self).__init__()\n",
        "        self.actor = Actor(state_dim, action_dim)\n",
        "        self.critic = Critic(state_dim)\n",
        "        \n",
        "        self.baseline = nn.Linear(state_dim, 1)\n",
        "        \n",
        "        # TODO: create an optimizer for the parameters of your actor (HINT: use the passed in lr and weight_decay args)\n",
        "        self.opt = optim.Adam(self.actor.parameters(), lr=lr, weight_decay=weight_decay)\n",
        "\n",
        "        \n",
        "        #raise NotImplementedError\n",
        "        \n",
        "        self.discount = discount\n",
        "        \n",
        "    def forward(self, state):\n",
        "        return self.actor.get_action(state)\n",
        "    \n",
        "    def learn(self, states, actions, rewards):\n",
        "        '''\n",
        "        Takes in three arguments each of which is a list with equal length. Each element in the list is a \n",
        "        pytorch tensor with 1 row for every step in the episode, and the columns are state_dim, action_dim, \n",
        "        and 1, respectively.\n",
        "        '''\n",
        "        \n",
        "        # TODO: implement the REINFORCE algorithm (HINT: check the slides/papers)\n",
        "        \n",
        "        returns = [compute_returns(rs, discount=self.discount) for rs in rewards]\n",
        "        \n",
        "        states, actions, returns = torch.cat(states), torch.cat(actions), torch.cat(returns)\n",
        "        \n",
        "        #raise NotImplementedError\n",
        "        self.opt.zero_grad()\n",
        "        loss = 0\n",
        "        for x, y, z in zip(states, actions, returns):\n",
        "            loss += -self.actor.get_policy(x).log_prob(y) * z\n",
        "\n",
        "        loss.backward()\n",
        "        self.opt.step()\n",
        "        \n",
        "        \n",
        "        error = F.mse_loss(self.baseline(states).squeeze(), returns).detach()\n",
        "        solve(states, returns, out=self.baseline)\n",
        "        #error = F.mse_loss(self.baseline(states).squeeze(), returns).detach()\n",
        "        \n",
        "        return error.item() # Returns a rough estimate of the error in the baseline (dont worry about this too much)"
      ],
      "execution_count": 0,
      "outputs": []
    },
    {
      "metadata": {
        "id": "ogkj6xjeksII",
        "colab_type": "text"
      },
      "cell_type": "markdown",
      "source": [
        "## The Critic\n",
        "\n",
        "Now we can introduce a critic, which is essentially a value function to estimate the expected discounted reward of a state."
      ]
    },
    {
      "metadata": {
        "id": "uGYwOY6AksIJ",
        "colab_type": "code",
        "colab": {}
      },
      "cell_type": "code",
      "source": [
        "class Critic(nn.Module):\n",
        "    def __init__(self, state_dim):\n",
        "        super(Critic, self).__init__()\n",
        "        \n",
        "        # TODO: define your value function network\n",
        "        self.fc1 = nn.Linear(state_dim, 128)\n",
        "        self.fc2 = nn.Linear(128, 256)\n",
        "        self.fc3 = nn.Linear(256, 512)\n",
        "        self.fc4 = nn.Linear(512, 1)        \n",
        "        \n",
        "        #raise NotImplementedError\n",
        "\n",
        "    def forward(self, state):\n",
        "        \n",
        "        # TODO: apply your value function network to get a value given this batch of states\n",
        "        state = F.relu(self.fc1(state))\n",
        "        state = F.relu(self.fc2(state))\n",
        "        state = F.relu(self.fc3(state))\n",
        "        return self.fc4(state)        \n",
        "        #raise NotImplementedError"
      ],
      "execution_count": 0,
      "outputs": []
    },
    {
      "metadata": {
        "id": "5rfkylePksIL",
        "colab_type": "text"
      },
      "cell_type": "markdown",
      "source": [
        "## The A3C Agent\n",
        "\n",
        "Now we can put the actor and critic together using the A3C algorithm. It turns out, the tasks in the gym are all so simple that there is essentially no gain in parallelization, so technically we're implementing A2C (no async), but the RL part is the same."
      ]
    },
    {
      "metadata": {
        "id": "QoZgaABTksIL",
        "colab_type": "code",
        "colab": {}
      },
      "cell_type": "code",
      "source": [
        "class A3C(nn.Module):\n",
        "    \n",
        "    def __init__(self, state_dim, action_dim, discount=0.97, lr=1e-3, weight_decay=1e-4):\n",
        "        super(A3C, self).__init__()\n",
        "        self.actor = Actor(state_dim, action_dim)\n",
        "        self.critic = Critic(state_dim)\n",
        "        \n",
        "        # TODO: create an optimizer for the parameters of your actor (HINT: use the passed in lr and weight_decay args)\n",
        "        # (HINT: the actor and critic have different objectives, so how many optimizers do you need?)\n",
        "        \n",
        "        self.opt_one = optim.RMSprop(self.actor.parameters(), lr=lr, weight_decay=weight_decay)\n",
        "        self.opt_two = optim.Adam(self.critic.parameters(), lr=lr, weight_decay=weight_decay)\n",
        "        \n",
        "        \n",
        "        \n",
        "        #raise NotImplementedError\n",
        "        \n",
        "        self.discount = discount\n",
        "        \n",
        "    def forward(self, state):\n",
        "        return self.actor.get_action(state)\n",
        "    \n",
        "    def learn(self, states, actions, rewards):\n",
        "        \n",
        "        returns = [compute_returns(rs, discount=self.discount) for rs in rewards]\n",
        "        \n",
        "        states, actions, returns = torch.cat(states), torch.cat(actions), torch.cat(returns)\n",
        "        \n",
        "        # TODO: implement A3C (HINT: algorithm details found in A3C paper supplement) \n",
        "        # (HINT2: the algorithm is actually very similar to REINFORCE, the only difference is now we have a critic, what might that do?)\n",
        "        self.opt_one.zero_grad()\n",
        "        self.opt_two.zero_grad()\n",
        "        loss = 0\n",
        "        for x, y, z in zip(states, actions, returns):\n",
        "            temp = z + self.discount * self.critic(x)\n",
        "            loss += -self.actor.get_policy(x).log_prob(y) * (temp - self.critic(x))\n",
        "\n",
        "        loss.backward()\n",
        "        self.opt_one.step()\n",
        "        \n",
        "        error = F.mse_loss(self.critic(states).squeeze(), returns)\n",
        "        error.backward()\n",
        "        self.opt_two.step()\n",
        "        \n",
        "        \n",
        "        return error.item()        \n",
        "        #raise NotImplementedError"
      ],
      "execution_count": 0,
      "outputs": []
    },
    {
      "metadata": {
        "id": "Hq-zQWzAksIO",
        "colab_type": "text"
      },
      "cell_type": "markdown",
      "source": [
        "## Part 1: Balancing a pole with a cart\n",
        "\n",
        "First, we'll test both algorithms on a very simple toy system: the cartpole. Eventhough it's very low dimensional (state=4, action=2), this task is nontrival because it is underactuated. Nevertheless after a few thousand episodes our policy shouldn't have a problem! "
      ]
    },
    {
      "metadata": {
        "id": "RGBdP7leksIP",
        "colab_type": "code",
        "colab": {}
      },
      "cell_type": "code",
      "source": [
        "# Optimization hyperparameters\n",
        "lr = 1e-2\n",
        "weight_decay = 1e-4"
      ],
      "execution_count": 0,
      "outputs": []
    },
    {
      "metadata": {
        "id": "8vAi8sXuksIS",
        "colab_type": "code",
        "colab": {
          "base_uri": "https://localhost:8080/",
          "height": 91
        },
        "outputId": "e7500d28-fb7b-4926-83e3-79aafdaca07b"
      },
      "cell_type": "code",
      "source": [
        "env_name = 'CartPole-v1' \n",
        "#env_name = 'LunarLander-v2'\n",
        "e = Pytorch_Gym_Env(env_name)\n",
        "state_dim = e.observation_space.shape[0]\n",
        "action_dim = e.action_space.n"
      ],
      "execution_count": 55,
      "outputs": [
        {
          "output_type": "stream",
          "text": [
            "/usr/local/lib/python3.6/dist-packages/gym/envs/registration.py:14: PkgResourcesDeprecationWarning: Parameters to load are deprecated.  Call .resolve and .require separately.\n",
            "  result = entry_point.load(False)\n"
          ],
          "name": "stderr"
        }
      ]
    },
    {
      "metadata": {
        "scrolled": false,
        "id": "Meq1LT8NksIV",
        "colab_type": "code",
        "colab": {
          "base_uri": "https://localhost:8080/",
          "height": 221
        },
        "outputId": "f8afd8e2-8df0-4001-df8e-232d57c5f511"
      },
      "cell_type": "code",
      "source": [
        "# Choose what agent to use\n",
        "#agent = REINFORCE(state_dim, action_dim, lr=lr, weight_decay=weight_decay)\n",
        "agent = A3C(state_dim, action_dim, lr=lr, weight_decay=weight_decay)\n",
        "\n",
        "total_episodes = 0\n",
        "print(agent) # Let's take a look at what we're working with..."
      ],
      "execution_count": 56,
      "outputs": [
        {
          "output_type": "stream",
          "text": [
            "A3C(\n",
            "  (actor): Actor(\n",
            "    (fc1): Linear(in_features=4, out_features=128, bias=True)\n",
            "    (fc2): Linear(in_features=128, out_features=2, bias=True)\n",
            "  )\n",
            "  (critic): Critic(\n",
            "    (fc1): Linear(in_features=4, out_features=128, bias=True)\n",
            "    (fc2): Linear(in_features=128, out_features=256, bias=True)\n",
            "    (fc3): Linear(in_features=256, out_features=512, bias=True)\n",
            "    (fc4): Linear(in_features=512, out_features=1, bias=True)\n",
            "  )\n",
            ")\n"
          ],
          "name": "stdout"
        }
      ]
    },
    {
      "metadata": {
        "id": "WUl_VOypksIX",
        "colab_type": "code",
        "colab": {}
      },
      "cell_type": "code",
      "source": [
        "# Create a \n",
        "gen = Generator(e, agent)"
      ],
      "execution_count": 0,
      "outputs": []
    },
    {
      "metadata": {
        "id": "Ja001im9ksIZ",
        "colab_type": "text"
      },
      "cell_type": "markdown",
      "source": [
        "### Let's do this!!\n",
        "\n",
        "Below is the loop to train and evaluate your agent. You can play around with the number of iterations to run, and the number of rollouts per iteration. \n",
        "\n",
        "You can rerun this cell multiple times to keep training your model for more episodes. In any case, it shouldn't take more than 30 min to an 1 hour to train. (training never took me more than 5 min). HINT: Keep an eye on the eval_reward, it'll be pretty noisy, but if that should be slowly increasing."
      ]
    },
    {
      "metadata": {
        "id": "8oT0vzayksIa",
        "colab_type": "code",
        "colab": {
          "base_uri": "https://localhost:8080/",
          "height": 1856
        },
        "outputId": "6750d733-5b1a-4837-f962-d95a12b76426"
      },
      "cell_type": "code",
      "source": [
        "#reinforce\n",
        "num_iter = 100\n",
        "num_train = 10\n",
        "num_eval = 10 # dont change this\n",
        "reinforce_reward_train = []\n",
        "reinforce_reward_val = []\n",
        "best_agent = None\n",
        "for itr in range(num_iter):\n",
        "    #agent.model.epsilon = epsilon * epsilon_decay ** (total_episodes / epsilon_decay_episodes)\n",
        "    #print('** Iteration {}/{} **'.format(itr+1, num_iter))\n",
        "    train_reward, train_loss = run_iteration('train', num_train, agent, gen)\n",
        "    eval_reward, _ = run_iteration('eval', num_eval, agent, gen)\n",
        "    total_episodes += num_train\n",
        "    print('Ep:{}: reward={:.3f}, loss={:.3f}, eval={:.3f}'.format(total_episodes, train_reward, train_loss, eval_reward))\n",
        "    reinforce_reward_train.append(train_reward)\n",
        "    reinforce_reward_val.append(eval_reward)\n",
        "    \n",
        "    if eval_reward > 499 and env_name == 'CartPole-v1': # dont change this\n",
        "        print('Success!!! You have solved cartpole task! Time for a bigger challenge!')\n",
        "        best_agent = deepcopy(agent)\n",
        "        \n",
        "    # save model\n",
        "with open('reinforce.txt', 'wb') as handle:\n",
        "        pickle.dump([reinforce_reward_train, reinforce_reward_val], handle)\n",
        "print('Done')"
      ],
      "execution_count": 49,
      "outputs": [
        {
          "output_type": "stream",
          "text": [
            "/usr/local/lib/python3.6/dist-packages/ipykernel_launcher.py:15: UserWarning: Implicit dimension choice for softmax has been deprecated. Change the call to include dim=X as an argument.\n",
            "  from ipykernel import kernelapp as app\n"
          ],
          "name": "stderr"
        },
        {
          "output_type": "stream",
          "text": [
            "Ep:10: reward=21.000, loss=122.047, eval=12.400\n",
            "Ep:20: reward=20.500, loss=51.977, eval=15.600\n",
            "Ep:30: reward=18.400, loss=46.313, eval=21.000\n",
            "Ep:40: reward=29.100, loss=45.052, eval=26.900\n",
            "Ep:50: reward=30.100, loss=64.776, eval=115.300\n",
            "Ep:60: reward=35.000, loss=66.218, eval=153.200\n",
            "Ep:70: reward=58.000, loss=128.894, eval=65.900\n",
            "Ep:80: reward=42.800, loss=58.641, eval=51.200\n",
            "Ep:90: reward=51.300, loss=43.328, eval=61.500\n",
            "Ep:100: reward=50.200, loss=71.924, eval=95.700\n",
            "Ep:110: reward=61.900, loss=72.553, eval=215.900\n",
            "Ep:120: reward=84.500, loss=125.317, eval=163.700\n",
            "Ep:130: reward=87.100, loss=83.533, eval=151.700\n",
            "Ep:140: reward=104.700, loss=84.312, eval=169.700\n",
            "Ep:150: reward=115.300, loss=78.667, eval=228.400\n",
            "Ep:160: reward=75.700, loss=112.563, eval=210.000\n",
            "Ep:170: reward=96.900, loss=79.838, eval=246.300\n",
            "Ep:180: reward=143.400, loss=66.103, eval=423.900\n",
            "Ep:190: reward=132.100, loss=60.569, eval=467.900\n",
            "Ep:200: reward=146.000, loss=50.698, eval=449.300\n",
            "Ep:210: reward=201.000, loss=110.994, eval=500.000\n",
            "Success!!! You have solved cartpole task! Time for a bigger challenge!\n",
            "Ep:220: reward=177.300, loss=58.435, eval=500.000\n",
            "Success!!! You have solved cartpole task! Time for a bigger challenge!\n",
            "Ep:230: reward=183.600, loss=47.616, eval=492.600\n",
            "Ep:240: reward=187.200, loss=56.794, eval=445.800\n",
            "Ep:250: reward=251.200, loss=40.361, eval=418.100\n",
            "Ep:260: reward=220.500, loss=58.492, eval=459.400\n",
            "Ep:270: reward=255.500, loss=48.301, eval=448.500\n",
            "Ep:280: reward=337.100, loss=48.634, eval=274.700\n",
            "Ep:290: reward=258.700, loss=42.341, eval=340.900\n",
            "Ep:300: reward=201.300, loss=70.514, eval=318.000\n",
            "Ep:310: reward=218.300, loss=48.665, eval=346.300\n",
            "Ep:320: reward=185.700, loss=55.043, eval=417.300\n",
            "Ep:330: reward=232.000, loss=56.838, eval=383.000\n",
            "Ep:340: reward=219.300, loss=55.327, eval=475.900\n",
            "Ep:350: reward=209.600, loss=57.530, eval=351.900\n",
            "Ep:360: reward=165.300, loss=155.602, eval=279.600\n",
            "Ep:370: reward=194.400, loss=49.818, eval=361.400\n",
            "Ep:380: reward=180.100, loss=42.203, eval=300.900\n",
            "Ep:390: reward=176.500, loss=101.266, eval=220.100\n",
            "Ep:400: reward=164.200, loss=39.602, eval=195.800\n",
            "Ep:410: reward=139.300, loss=18.180, eval=188.700\n",
            "Ep:420: reward=160.000, loss=7.018, eval=158.400\n",
            "Ep:430: reward=185.700, loss=13.843, eval=197.600\n",
            "Ep:440: reward=172.200, loss=10.672, eval=163.100\n",
            "Ep:450: reward=178.500, loss=6.819, eval=224.800\n",
            "Ep:460: reward=198.400, loss=6.756, eval=363.600\n",
            "Ep:470: reward=260.500, loss=113.824, eval=488.100\n",
            "Ep:480: reward=370.800, loss=34.964, eval=488.300\n",
            "Ep:490: reward=461.900, loss=33.583, eval=479.900\n",
            "Ep:500: reward=433.300, loss=38.378, eval=500.000\n",
            "Success!!! You have solved cartpole task! Time for a bigger challenge!\n",
            "Ep:510: reward=432.100, loss=33.272, eval=457.400\n",
            "Ep:520: reward=354.500, loss=28.308, eval=463.000\n",
            "Ep:530: reward=365.700, loss=29.854, eval=487.000\n",
            "Ep:540: reward=389.400, loss=25.515, eval=494.200\n",
            "Ep:550: reward=442.400, loss=35.558, eval=497.500\n",
            "Ep:560: reward=408.700, loss=34.547, eval=500.000\n",
            "Success!!! You have solved cartpole task! Time for a bigger challenge!\n",
            "Ep:570: reward=424.300, loss=33.668, eval=487.300\n",
            "Ep:580: reward=424.800, loss=35.204, eval=475.900\n",
            "Ep:590: reward=358.500, loss=38.490, eval=473.500\n",
            "Ep:600: reward=382.900, loss=34.033, eval=486.600\n",
            "Ep:610: reward=313.100, loss=33.329, eval=440.600\n",
            "Ep:620: reward=312.600, loss=20.963, eval=421.800\n",
            "Ep:630: reward=319.300, loss=57.958, eval=427.900\n",
            "Ep:640: reward=351.800, loss=30.444, eval=475.700\n",
            "Ep:650: reward=312.700, loss=32.009, eval=401.300\n",
            "Ep:660: reward=326.400, loss=29.776, eval=384.600\n",
            "Ep:670: reward=246.300, loss=16.856, eval=317.000\n",
            "Ep:680: reward=226.400, loss=15.491, eval=259.200\n",
            "Ep:690: reward=230.200, loss=5.571, eval=253.900\n",
            "Ep:700: reward=240.700, loss=47.289, eval=241.100\n",
            "Ep:710: reward=216.100, loss=14.164, eval=222.000\n",
            "Ep:720: reward=204.700, loss=5.698, eval=214.200\n",
            "Ep:730: reward=206.900, loss=5.619, eval=222.100\n",
            "Ep:740: reward=184.300, loss=6.119, eval=212.300\n",
            "Ep:750: reward=193.800, loss=4.598, eval=207.800\n",
            "Ep:760: reward=199.100, loss=5.943, eval=195.900\n",
            "Ep:770: reward=195.800, loss=5.741, eval=223.600\n",
            "Ep:780: reward=190.400, loss=6.337, eval=244.400\n",
            "Ep:790: reward=204.400, loss=7.259, eval=261.000\n",
            "Ep:800: reward=218.400, loss=7.432, eval=244.100\n",
            "Ep:810: reward=231.700, loss=8.324, eval=275.200\n",
            "Ep:820: reward=229.900, loss=9.191, eval=304.300\n",
            "Ep:830: reward=244.600, loss=10.156, eval=332.700\n",
            "Ep:840: reward=263.700, loss=11.124, eval=308.400\n",
            "Ep:850: reward=296.700, loss=11.042, eval=337.500\n",
            "Ep:860: reward=287.800, loss=11.851, eval=440.600\n",
            "Ep:870: reward=288.100, loss=13.028, eval=458.300\n",
            "Ep:880: reward=373.900, loss=11.591, eval=389.800\n",
            "Ep:890: reward=323.700, loss=11.674, eval=324.100\n",
            "Ep:900: reward=252.300, loss=10.798, eval=266.300\n",
            "Ep:910: reward=248.900, loss=9.618, eval=233.400\n",
            "Ep:920: reward=208.500, loss=8.114, eval=213.400\n",
            "Ep:930: reward=190.700, loss=6.988, eval=209.400\n",
            "Ep:940: reward=198.100, loss=6.473, eval=204.900\n",
            "Ep:950: reward=195.500, loss=5.279, eval=198.900\n",
            "Ep:960: reward=180.100, loss=5.453, eval=198.400\n",
            "Ep:970: reward=176.100, loss=4.301, eval=196.600\n",
            "Ep:980: reward=175.700, loss=4.768, eval=201.000\n",
            "Ep:990: reward=183.800, loss=4.415, eval=187.800\n",
            "Ep:1000: reward=162.600, loss=4.688, eval=181.500\n",
            "Done\n"
          ],
          "name": "stdout"
        }
      ]
    },
    {
      "metadata": {
        "id": "18_ZC5bsjOYO",
        "colab_type": "code",
        "colab": {
          "base_uri": "https://localhost:8080/",
          "height": 2213
        },
        "outputId": "a9c864d2-4280-4c1f-d4ab-4ed551262785"
      },
      "cell_type": "code",
      "source": [
        "#ac3\n",
        "num_iter = 100\n",
        "num_train = 10\n",
        "num_eval = 10 # dont change this\n",
        "ac3_reward_train = []\n",
        "ac3_reward_val = []\n",
        "best_agent = None\n",
        "for itr in range(num_iter):\n",
        "    #agent.model.epsilon = epsilon * epsilon_decay ** (total_episodes / epsilon_decay_episodes)\n",
        "    #print('** Iteration {}/{} **'.format(itr+1, num_iter))\n",
        "    train_reward, train_loss = run_iteration('train', num_train, agent, gen)\n",
        "    eval_reward, _ = run_iteration('eval', num_eval, agent, gen)\n",
        "    total_episodes += num_train\n",
        "    print('Ep:{}: reward={:.3f}, loss={:.3f}, eval={:.3f}'.format(total_episodes, train_reward, train_loss, eval_reward))\n",
        "    ac3_reward_train.append(train_reward)\n",
        "    ac3_reward_val.append(eval_reward)\n",
        "    \n",
        "    if eval_reward > 499 and env_name == 'CartPole-v1': # dont change this\n",
        "        print('Success!!! You have solved cartpole task! Time for a bigger challenge!')\n",
        "        best_agent = deepcopy(agent)\n",
        "        \n",
        "    # save model\n",
        "with open('a3c.txt', 'wb') as handle:\n",
        "        pickle.dump([ac3_reward_train, ac3_reward_val], handle)\n",
        "print('Done')"
      ],
      "execution_count": 58,
      "outputs": [
        {
          "output_type": "stream",
          "text": [
            "/usr/local/lib/python3.6/dist-packages/ipykernel_launcher.py:15: UserWarning: Implicit dimension choice for softmax has been deprecated. Change the call to include dim=X as an argument.\n",
            "  from ipykernel import kernelapp as app\n"
          ],
          "name": "stderr"
        },
        {
          "output_type": "stream",
          "text": [
            "Ep:10: reward=22.700, loss=187.135, eval=28.500\n",
            "Ep:20: reward=37.300, loss=286.914, eval=9.200\n",
            "Ep:30: reward=13.500, loss=38.220, eval=68.800\n",
            "Ep:40: reward=61.100, loss=163.014, eval=9.800\n",
            "Ep:50: reward=10.200, loss=979.240, eval=11.000\n",
            "Ep:60: reward=12.600, loss=212.379, eval=23.100\n",
            "Ep:70: reward=22.600, loss=32.909, eval=37.400\n",
            "Ep:80: reward=29.900, loss=78.196, eval=31.300\n",
            "Ep:90: reward=27.800, loss=88.840, eval=40.900\n",
            "Ep:100: reward=50.100, loss=246.573, eval=69.400\n",
            "Ep:110: reward=49.400, loss=237.102, eval=287.700\n",
            "Ep:120: reward=90.300, loss=423.060, eval=57.700\n",
            "Ep:130: reward=51.900, loss=220.242, eval=73.500\n",
            "Ep:140: reward=54.500, loss=197.163, eval=240.100\n",
            "Ep:150: reward=140.400, loss=316.942, eval=96.100\n",
            "Ep:160: reward=82.700, loss=122.845, eval=99.500\n",
            "Ep:170: reward=88.000, loss=67.309, eval=143.100\n",
            "Ep:180: reward=127.600, loss=98.650, eval=500.000\n",
            "Success!!! You have solved cartpole task! Time for a bigger challenge!\n",
            "Ep:190: reward=498.100, loss=238.818, eval=114.700\n",
            "Ep:200: reward=105.800, loss=1445.204, eval=292.100\n",
            "Ep:210: reward=278.700, loss=1041.631, eval=263.500\n",
            "Ep:220: reward=241.500, loss=647.733, eval=493.400\n",
            "Ep:230: reward=460.000, loss=2473.647, eval=152.200\n",
            "Ep:240: reward=157.800, loss=2423.624, eval=314.100\n",
            "Ep:250: reward=230.400, loss=97.550, eval=431.600\n",
            "Ep:260: reward=273.000, loss=190.422, eval=294.200\n",
            "Ep:270: reward=272.200, loss=271.781, eval=500.000\n",
            "Success!!! You have solved cartpole task! Time for a bigger challenge!\n",
            "Ep:280: reward=500.000, loss=293.846, eval=247.300\n",
            "Ep:290: reward=221.200, loss=177.875, eval=196.700\n",
            "Ep:300: reward=180.700, loss=144.524, eval=137.700\n",
            "Ep:310: reward=131.300, loss=122.618, eval=126.500\n",
            "Ep:320: reward=114.900, loss=123.748, eval=118.000\n",
            "Ep:330: reward=113.000, loss=136.119, eval=133.400\n",
            "Ep:340: reward=128.200, loss=90.050, eval=120.800\n",
            "Ep:350: reward=114.600, loss=159.785, eval=107.700\n",
            "Ep:360: reward=109.000, loss=224.521, eval=140.000\n",
            "Ep:370: reward=146.000, loss=92.013, eval=230.600\n",
            "Ep:380: reward=221.600, loss=48.528, eval=484.700\n",
            "Ep:390: reward=441.000, loss=105.090, eval=500.000\n",
            "Success!!! You have solved cartpole task! Time for a bigger challenge!\n",
            "Ep:400: reward=469.500, loss=217.000, eval=500.000\n",
            "Success!!! You have solved cartpole task! Time for a bigger challenge!\n",
            "Ep:410: reward=393.900, loss=577.282, eval=494.000\n",
            "Ep:420: reward=405.800, loss=1120.056, eval=500.000\n",
            "Success!!! You have solved cartpole task! Time for a bigger challenge!\n",
            "Ep:430: reward=453.400, loss=1851.216, eval=500.000\n",
            "Success!!! You have solved cartpole task! Time for a bigger challenge!\n",
            "Ep:440: reward=479.400, loss=2214.688, eval=500.000\n",
            "Success!!! You have solved cartpole task! Time for a bigger challenge!\n",
            "Ep:450: reward=479.200, loss=1809.180, eval=500.000\n",
            "Success!!! You have solved cartpole task! Time for a bigger challenge!\n",
            "Ep:460: reward=500.000, loss=1375.670, eval=500.000\n",
            "Success!!! You have solved cartpole task! Time for a bigger challenge!\n",
            "Ep:470: reward=500.000, loss=976.847, eval=500.000\n",
            "Success!!! You have solved cartpole task! Time for a bigger challenge!\n",
            "Ep:480: reward=500.000, loss=735.387, eval=500.000\n",
            "Success!!! You have solved cartpole task! Time for a bigger challenge!\n",
            "Ep:490: reward=494.700, loss=574.595, eval=500.000\n",
            "Success!!! You have solved cartpole task! Time for a bigger challenge!\n",
            "Ep:500: reward=408.300, loss=849.043, eval=500.000\n",
            "Success!!! You have solved cartpole task! Time for a bigger challenge!\n",
            "Ep:510: reward=500.000, loss=930.353, eval=500.000\n",
            "Success!!! You have solved cartpole task! Time for a bigger challenge!\n",
            "Ep:520: reward=161.000, loss=1665.974, eval=500.000\n",
            "Success!!! You have solved cartpole task! Time for a bigger challenge!\n",
            "Ep:530: reward=500.000, loss=1287.376, eval=500.000\n",
            "Success!!! You have solved cartpole task! Time for a bigger challenge!\n",
            "Ep:540: reward=454.500, loss=1317.902, eval=500.000\n",
            "Success!!! You have solved cartpole task! Time for a bigger challenge!\n",
            "Ep:550: reward=269.300, loss=1271.564, eval=500.000\n",
            "Success!!! You have solved cartpole task! Time for a bigger challenge!\n",
            "Ep:560: reward=500.000, loss=1039.247, eval=500.000\n",
            "Success!!! You have solved cartpole task! Time for a bigger challenge!\n",
            "Ep:570: reward=500.000, loss=926.031, eval=500.000\n",
            "Success!!! You have solved cartpole task! Time for a bigger challenge!\n",
            "Ep:580: reward=500.000, loss=952.946, eval=500.000\n",
            "Success!!! You have solved cartpole task! Time for a bigger challenge!\n",
            "Ep:590: reward=500.000, loss=1136.857, eval=500.000\n",
            "Success!!! You have solved cartpole task! Time for a bigger challenge!\n",
            "Ep:600: reward=500.000, loss=1283.897, eval=500.000\n",
            "Success!!! You have solved cartpole task! Time for a bigger challenge!\n",
            "Ep:610: reward=500.000, loss=1494.565, eval=500.000\n",
            "Success!!! You have solved cartpole task! Time for a bigger challenge!\n",
            "Ep:620: reward=482.200, loss=1598.149, eval=500.000\n",
            "Success!!! You have solved cartpole task! Time for a bigger challenge!\n",
            "Ep:630: reward=379.400, loss=1368.698, eval=281.000\n",
            "Ep:640: reward=262.900, loss=1152.687, eval=371.500\n",
            "Ep:650: reward=289.600, loss=680.849, eval=240.900\n",
            "Ep:660: reward=201.600, loss=383.348, eval=205.600\n",
            "Ep:670: reward=178.200, loss=184.230, eval=172.000\n",
            "Ep:680: reward=139.700, loss=110.638, eval=113.700\n",
            "Ep:690: reward=108.600, loss=60.780, eval=131.000\n",
            "Ep:700: reward=114.100, loss=56.533, eval=131.300\n",
            "Ep:710: reward=127.300, loss=54.165, eval=108.900\n",
            "Ep:720: reward=108.300, loss=44.754, eval=104.700\n",
            "Ep:730: reward=101.900, loss=38.669, eval=105.500\n",
            "Ep:740: reward=103.200, loss=37.349, eval=104.900\n",
            "Ep:750: reward=101.800, loss=32.280, eval=103.500\n",
            "Ep:760: reward=104.300, loss=31.571, eval=106.000\n",
            "Ep:770: reward=103.400, loss=37.147, eval=106.900\n",
            "Ep:780: reward=88.700, loss=74.312, eval=105.100\n",
            "Ep:790: reward=96.800, loss=94.992, eval=105.600\n",
            "Ep:800: reward=78.700, loss=193.769, eval=102.300\n",
            "Ep:810: reward=88.200, loss=183.597, eval=105.400\n",
            "Ep:820: reward=94.500, loss=143.797, eval=101.900\n",
            "Ep:830: reward=95.000, loss=103.474, eval=107.900\n",
            "Ep:840: reward=97.100, loss=58.808, eval=101.200\n",
            "Ep:850: reward=86.500, loss=53.425, eval=108.700\n",
            "Ep:860: reward=99.100, loss=22.218, eval=103.600\n",
            "Ep:870: reward=101.400, loss=14.517, eval=58.100\n",
            "Ep:880: reward=53.600, loss=261.180, eval=96.700\n",
            "Ep:890: reward=84.400, loss=68.776, eval=108.500\n",
            "Ep:900: reward=111.600, loss=17.349, eval=112.300\n",
            "Ep:910: reward=113.000, loss=18.320, eval=134.300\n",
            "Ep:920: reward=133.700, loss=43.968, eval=132.100\n",
            "Ep:930: reward=132.600, loss=26.313, eval=159.300\n",
            "Ep:940: reward=171.100, loss=50.922, eval=454.400\n",
            "Ep:950: reward=399.700, loss=72.359, eval=264.200\n",
            "Ep:960: reward=291.700, loss=52.889, eval=219.900\n",
            "Ep:970: reward=323.500, loss=126.750, eval=340.700\n",
            "Ep:980: reward=325.500, loss=289.699, eval=177.500\n",
            "Ep:990: reward=172.800, loss=1145.105, eval=171.200\n",
            "Ep:1000: reward=175.200, loss=1149.224, eval=254.200\n",
            "Done\n"
          ],
          "name": "stdout"
        }
      ]
    },
    {
      "metadata": {
        "id": "vDT6e6Jxls3l",
        "colab_type": "code",
        "colab": {}
      },
      "cell_type": "code",
      "source": [
        "# You can visualize your policy at any time\n",
        "run_iteration('eval', 1, agent, gen, render=True)"
      ],
      "execution_count": 0,
      "outputs": []
    },
    {
      "metadata": {
        "collapsed": true,
        "id": "0SrE9Kh0ksIe",
        "colab_type": "text"
      },
      "cell_type": "markdown",
      "source": [
        "## Analysis\n",
        "\n",
        "Plot the performance of each of your agents for the cartpole task and one additional task. When choosing a new environment, make sure is has a discrete action space. For each plot the x axis should show the total number of episodes the model was trained on, and the y axis shows the average total reward per episode.\n",
        "\n",
        "You can leave the plots as cell outputs below, or you can save them as images and submit them separately.\n",
        "\n",
        "### Deliverables\n",
        "- single plot showing both the REINFORCE algorithm's performance, and A3C's performance on the same plot for the cartpole environment (CartPole-v1).\n",
        "- single plot showing both the REINFORCE algorithm's performance, and A3C's performance on the same plot for a second environment of your choice (suggested -> LunarLander-v2, it's a little tricky but watching the agent fly spaceships is very entertaining!).\n",
        "- in every case you models have to learn something for full credit."
      ]
    },
    {
      "metadata": {
        "id": "LG4wfGJqijfV",
        "colab_type": "code",
        "colab": {}
      },
      "cell_type": "code",
      "source": [
        "#Cartpole, reinforce\n",
        "epochs_reinforce = list(range(len(reinforce_reward_train)))\n"
      ],
      "execution_count": 0,
      "outputs": []
    },
    {
      "metadata": {
        "id": "90yijcV0ksIf",
        "colab_type": "code",
        "colab": {}
      },
      "cell_type": "code",
      "source": [
        "#Lunar Lander, reinforce\n",
        "epochs_reinforce_LunarL = list(range(len(reinforce_reward_train)))\n"
      ],
      "execution_count": 0,
      "outputs": []
    },
    {
      "metadata": {
        "id": "fXX14-v2VD5A",
        "colab_type": "code",
        "colab": {}
      },
      "cell_type": "code",
      "source": [
        "#Cartpole, ac3\n",
        "epochs_ac3 = list(range(len(ac3_reward_train)))\n"
      ],
      "execution_count": 0,
      "outputs": []
    },
    {
      "metadata": {
        "id": "njC3tLXfWqCA",
        "colab_type": "code",
        "colab": {
          "base_uri": "https://localhost:8080/",
          "height": 74
        },
        "outputId": "1f592216-1e9f-4d54-d8f5-7969680dfdac"
      },
      "cell_type": "code",
      "source": [
        "#Lunar Lander,sc3\n",
        "epochs_ac3_LunarL = list(range(len(ac3_reward_train)))\n"
      ],
      "execution_count": 34,
      "outputs": [
        {
          "output_type": "stream",
          "text": [
            "[0, 1, 2, 3, 4, 5, 6, 7, 8, 9, 10, 11, 12, 13, 14, 15, 16, 17, 18, 19, 20, 21, 22, 23, 24, 25, 26, 27, 28, 29, 30, 31, 32, 33, 34, 35, 36, 37, 38, 39, 40, 41, 42, 43, 44, 45, 46, 47, 48, 49, 50, 51, 52, 53, 54, 55, 56, 57, 58, 59, 60, 61, 62, 63, 64, 65, 66, 67, 68, 69, 70, 71, 72, 73, 74, 75, 76, 77, 78, 79, 80, 81, 82, 83, 84, 85, 86, 87, 88, 89, 90, 91, 92, 93, 94, 95, 96, 97, 98, 99]\n"
          ],
          "name": "stdout"
        }
      ]
    },
    {
      "metadata": {
        "id": "vjW_ZwY4bWt8",
        "colab_type": "code",
        "colab": {
          "base_uri": "https://localhost:8080/",
          "height": 74
        },
        "outputId": "11d2f3fc-df76-4a65-fa7c-07b6417b7bb0"
      },
      "cell_type": "code",
      "source": [
        "a=[]\n",
        "length=len(reinforce_reward_train)\n",
        "for i in range(0,length):\n",
        "\n",
        "    c=reinforce_reward_train[i]\n",
        "  \n",
        "    a.append(c.numpy())\n",
        "    \n",
        "    \n",
        "print(a)"
      ],
      "execution_count": 61,
      "outputs": [
        {
          "output_type": "stream",
          "text": [
            "[array(21., dtype=float32), array(20.5, dtype=float32), array(18.4, dtype=float32), array(29.1, dtype=float32), array(30.1, dtype=float32), array(35., dtype=float32), array(58., dtype=float32), array(42.8, dtype=float32), array(51.3, dtype=float32), array(50.2, dtype=float32), array(61.9, dtype=float32), array(84.5, dtype=float32), array(87.1, dtype=float32), array(104.7, dtype=float32), array(115.3, dtype=float32), array(75.7, dtype=float32), array(96.9, dtype=float32), array(143.4, dtype=float32), array(132.1, dtype=float32), array(146., dtype=float32), array(201., dtype=float32), array(177.3, dtype=float32), array(183.6, dtype=float32), array(187.2, dtype=float32), array(251.2, dtype=float32), array(220.5, dtype=float32), array(255.5, dtype=float32), array(337.1, dtype=float32), array(258.7, dtype=float32), array(201.3, dtype=float32), array(218.3, dtype=float32), array(185.7, dtype=float32), array(232., dtype=float32), array(219.3, dtype=float32), array(209.6, dtype=float32), array(165.3, dtype=float32), array(194.4, dtype=float32), array(180.1, dtype=float32), array(176.5, dtype=float32), array(164.2, dtype=float32), array(139.3, dtype=float32), array(160., dtype=float32), array(185.7, dtype=float32), array(172.2, dtype=float32), array(178.5, dtype=float32), array(198.4, dtype=float32), array(260.5, dtype=float32), array(370.8, dtype=float32), array(461.9, dtype=float32), array(433.3, dtype=float32), array(432.1, dtype=float32), array(354.5, dtype=float32), array(365.7, dtype=float32), array(389.4, dtype=float32), array(442.4, dtype=float32), array(408.7, dtype=float32), array(424.3, dtype=float32), array(424.8, dtype=float32), array(358.5, dtype=float32), array(382.9, dtype=float32), array(313.1, dtype=float32), array(312.6, dtype=float32), array(319.3, dtype=float32), array(351.8, dtype=float32), array(312.7, dtype=float32), array(326.4, dtype=float32), array(246.3, dtype=float32), array(226.4, dtype=float32), array(230.2, dtype=float32), array(240.7, dtype=float32), array(216.1, dtype=float32), array(204.7, dtype=float32), array(206.9, dtype=float32), array(184.3, dtype=float32), array(193.8, dtype=float32), array(199.1, dtype=float32), array(195.8, dtype=float32), array(190.4, dtype=float32), array(204.4, dtype=float32), array(218.4, dtype=float32), array(231.7, dtype=float32), array(229.9, dtype=float32), array(244.6, dtype=float32), array(263.7, dtype=float32), array(296.7, dtype=float32), array(287.8, dtype=float32), array(288.1, dtype=float32), array(373.9, dtype=float32), array(323.7, dtype=float32), array(252.3, dtype=float32), array(248.9, dtype=float32), array(208.5, dtype=float32), array(190.7, dtype=float32), array(198.1, dtype=float32), array(195.5, dtype=float32), array(180.1, dtype=float32), array(176.1, dtype=float32), array(175.7, dtype=float32), array(183.8, dtype=float32), array(162.6, dtype=float32)]\n"
          ],
          "name": "stdout"
        }
      ]
    },
    {
      "metadata": {
        "id": "Zk4G6CFgP7p0",
        "colab_type": "code",
        "colab": {
          "base_uri": "https://localhost:8080/",
          "height": 1717
        },
        "outputId": "497c7b1d-23ef-4e61-f7b4-2eb5f50451e2"
      },
      "cell_type": "code",
      "source": [
        "a_LL=[]\n",
        "length=len(reinforce_reward_train)\n",
        "for i in range(0,length):\n",
        "\n",
        "    c=reinforce_reward_train[i]\n",
        "  \n",
        "    a_LL.append(c.numpy())"
      ],
      "execution_count": 36,
      "outputs": [
        {
          "output_type": "execute_result",
          "data": {
            "text/plain": [
              "[array(-404.70908, dtype=float32),\n",
              " array(-300.04062, dtype=float32),\n",
              " array(-247.5687, dtype=float32),\n",
              " array(-192.73268, dtype=float32),\n",
              " array(-119.8427, dtype=float32),\n",
              " array(-96.01565, dtype=float32),\n",
              " array(-121.6991, dtype=float32),\n",
              " array(-82.36098, dtype=float32),\n",
              " array(-75.87813, dtype=float32),\n",
              " array(-60.937126, dtype=float32),\n",
              " array(-69.19817, dtype=float32),\n",
              " array(-49.47033, dtype=float32),\n",
              " array(-25.08719, dtype=float32),\n",
              " array(-58.03591, dtype=float32),\n",
              " array(-65.04564, dtype=float32),\n",
              " array(-29.749004, dtype=float32),\n",
              " array(-30.906775, dtype=float32),\n",
              " array(-83.81072, dtype=float32),\n",
              " array(-52.94854, dtype=float32),\n",
              " array(-74.0359, dtype=float32),\n",
              " array(-8.221955, dtype=float32),\n",
              " array(-30.943584, dtype=float32),\n",
              " array(-82.66997, dtype=float32),\n",
              " array(-38.021587, dtype=float32),\n",
              " array(-92.55415, dtype=float32),\n",
              " array(-131.73032, dtype=float32),\n",
              " array(-6.429166, dtype=float32),\n",
              " array(-41.52864, dtype=float32),\n",
              " array(-32.60429, dtype=float32),\n",
              " array(-28.359598, dtype=float32),\n",
              " array(-19.023708, dtype=float32),\n",
              " array(6.9577837, dtype=float32),\n",
              " array(0.54339755, dtype=float32),\n",
              " array(13.241437, dtype=float32),\n",
              " array(-68.68898, dtype=float32),\n",
              " array(-61.944874, dtype=float32),\n",
              " array(-105.39237, dtype=float32),\n",
              " array(-79.70724, dtype=float32),\n",
              " array(-123.81758, dtype=float32),\n",
              " array(-70.70973, dtype=float32),\n",
              " array(-73.75872, dtype=float32),\n",
              " array(-78.85349, dtype=float32),\n",
              " array(-119.28676, dtype=float32),\n",
              " array(-1.4852295, dtype=float32),\n",
              " array(-30.724411, dtype=float32),\n",
              " array(101.6006, dtype=float32),\n",
              " array(24.444763, dtype=float32),\n",
              " array(-81.98451, dtype=float32),\n",
              " array(-31.976612, dtype=float32),\n",
              " array(20.407528, dtype=float32),\n",
              " array(49.0034, dtype=float32),\n",
              " array(8.765894, dtype=float32),\n",
              " array(-23.320234, dtype=float32),\n",
              " array(77.33365, dtype=float32),\n",
              " array(-44.874645, dtype=float32),\n",
              " array(-34.59046, dtype=float32),\n",
              " array(-37.777866, dtype=float32),\n",
              " array(48.13322, dtype=float32),\n",
              " array(-22.745846, dtype=float32),\n",
              " array(-44.47393, dtype=float32),\n",
              " array(89.08082, dtype=float32),\n",
              " array(23.0583, dtype=float32),\n",
              " array(43.914833, dtype=float32),\n",
              " array(-12.512007, dtype=float32),\n",
              " array(55.04641, dtype=float32),\n",
              " array(-22.043173, dtype=float32),\n",
              " array(-32.668312, dtype=float32),\n",
              " array(47.052574, dtype=float32),\n",
              " array(143.62935, dtype=float32),\n",
              " array(52.19729, dtype=float32),\n",
              " array(109.943886, dtype=float32),\n",
              " array(-12.364441, dtype=float32),\n",
              " array(67.27035, dtype=float32),\n",
              " array(80.49664, dtype=float32),\n",
              " array(67.84413, dtype=float32),\n",
              " array(136.48994, dtype=float32),\n",
              " array(63.353943, dtype=float32),\n",
              " array(90.083466, dtype=float32),\n",
              " array(95.53163, dtype=float32),\n",
              " array(116.92043, dtype=float32),\n",
              " array(180.44559, dtype=float32),\n",
              " array(170.23575, dtype=float32),\n",
              " array(89.7556, dtype=float32),\n",
              " array(111.01145, dtype=float32),\n",
              " array(144.12097, dtype=float32),\n",
              " array(111.06626, dtype=float32),\n",
              " array(140.55753, dtype=float32),\n",
              " array(157.5662, dtype=float32),\n",
              " array(127.80553, dtype=float32),\n",
              " array(104.33103, dtype=float32),\n",
              " array(149.75468, dtype=float32),\n",
              " array(82.85774, dtype=float32),\n",
              " array(61.455975, dtype=float32),\n",
              " array(46.316128, dtype=float32),\n",
              " array(52.733253, dtype=float32),\n",
              " array(97.269165, dtype=float32),\n",
              " array(80.57857, dtype=float32),\n",
              " array(118.841774, dtype=float32),\n",
              " array(59.830727, dtype=float32),\n",
              " array(108.54527, dtype=float32)]"
            ]
          },
          "metadata": {
            "tags": []
          },
          "execution_count": 36
        }
      ]
    },
    {
      "metadata": {
        "id": "tGwspH2BcPqW",
        "colab_type": "code",
        "colab": {
          "base_uri": "https://localhost:8080/",
          "height": 74
        },
        "outputId": "7325d076-7363-4c0c-dfbb-c58c6dc136c2"
      },
      "cell_type": "code",
      "source": [
        "b=[]\n",
        "length=len(ac3_reward_train)\n",
        "for i in range(0,length):\n",
        "\n",
        "    c=ac3_reward_train[i]\n",
        "  \n",
        "    b.append(c.numpy())\n",
        "  \n",
        "print(b)\n",
        "    "
      ],
      "execution_count": 62,
      "outputs": [
        {
          "output_type": "stream",
          "text": [
            "[array(22.7, dtype=float32), array(37.3, dtype=float32), array(13.5, dtype=float32), array(61.1, dtype=float32), array(10.2, dtype=float32), array(12.6, dtype=float32), array(22.6, dtype=float32), array(29.9, dtype=float32), array(27.8, dtype=float32), array(50.1, dtype=float32), array(49.4, dtype=float32), array(90.3, dtype=float32), array(51.9, dtype=float32), array(54.5, dtype=float32), array(140.4, dtype=float32), array(82.7, dtype=float32), array(88., dtype=float32), array(127.6, dtype=float32), array(498.1, dtype=float32), array(105.8, dtype=float32), array(278.7, dtype=float32), array(241.5, dtype=float32), array(460., dtype=float32), array(157.8, dtype=float32), array(230.4, dtype=float32), array(273., dtype=float32), array(272.2, dtype=float32), array(500., dtype=float32), array(221.2, dtype=float32), array(180.7, dtype=float32), array(131.3, dtype=float32), array(114.9, dtype=float32), array(113., dtype=float32), array(128.2, dtype=float32), array(114.6, dtype=float32), array(109., dtype=float32), array(146., dtype=float32), array(221.6, dtype=float32), array(441., dtype=float32), array(469.5, dtype=float32), array(393.9, dtype=float32), array(405.8, dtype=float32), array(453.4, dtype=float32), array(479.4, dtype=float32), array(479.2, dtype=float32), array(500., dtype=float32), array(500., dtype=float32), array(500., dtype=float32), array(494.7, dtype=float32), array(408.3, dtype=float32), array(500., dtype=float32), array(161., dtype=float32), array(500., dtype=float32), array(454.5, dtype=float32), array(269.3, dtype=float32), array(500., dtype=float32), array(500., dtype=float32), array(500., dtype=float32), array(500., dtype=float32), array(500., dtype=float32), array(500., dtype=float32), array(482.2, dtype=float32), array(379.4, dtype=float32), array(262.9, dtype=float32), array(289.6, dtype=float32), array(201.6, dtype=float32), array(178.2, dtype=float32), array(139.7, dtype=float32), array(108.6, dtype=float32), array(114.1, dtype=float32), array(127.3, dtype=float32), array(108.3, dtype=float32), array(101.9, dtype=float32), array(103.2, dtype=float32), array(101.8, dtype=float32), array(104.3, dtype=float32), array(103.4, dtype=float32), array(88.7, dtype=float32), array(96.8, dtype=float32), array(78.7, dtype=float32), array(88.2, dtype=float32), array(94.5, dtype=float32), array(95., dtype=float32), array(97.1, dtype=float32), array(86.5, dtype=float32), array(99.1, dtype=float32), array(101.4, dtype=float32), array(53.6, dtype=float32), array(84.4, dtype=float32), array(111.6, dtype=float32), array(113., dtype=float32), array(133.7, dtype=float32), array(132.6, dtype=float32), array(171.1, dtype=float32), array(399.7, dtype=float32), array(291.7, dtype=float32), array(323.5, dtype=float32), array(325.5, dtype=float32), array(172.8, dtype=float32), array(175.2, dtype=float32)]\n"
          ],
          "name": "stdout"
        }
      ]
    },
    {
      "metadata": {
        "id": "wSLWAkiKkUJV",
        "colab_type": "code",
        "colab": {
          "base_uri": "https://localhost:8080/",
          "height": 1717
        },
        "outputId": "4ea092ed-e3f2-4ee2-9f47-9ae00d03b2ae"
      },
      "cell_type": "code",
      "source": [
        "b_LL=[]\n",
        "length=len(ac3_reward_train)\n",
        "for i in range(0,length):\n",
        "\n",
        "    c=ac3_reward_train[i]\n",
        "  \n",
        "    b_LL.append(c.numpy())\n"
      ],
      "execution_count": 38,
      "outputs": [
        {
          "output_type": "execute_result",
          "data": {
            "text/plain": [
              "[array(-71.70999, dtype=float32),\n",
              " array(-172.07443, dtype=float32),\n",
              " array(-191.54108, dtype=float32),\n",
              " array(-67.55259, dtype=float32),\n",
              " array(-60.426483, dtype=float32),\n",
              " array(18.263155, dtype=float32),\n",
              " array(-34.033794, dtype=float32),\n",
              " array(73.9305, dtype=float32),\n",
              " array(-194.88316, dtype=float32),\n",
              " array(-11.597105, dtype=float32),\n",
              " array(10.700483, dtype=float32),\n",
              " array(118.63904, dtype=float32),\n",
              " array(92.26259, dtype=float32),\n",
              " array(-33.442375, dtype=float32),\n",
              " array(-10.035465, dtype=float32),\n",
              " array(51.253834, dtype=float32),\n",
              " array(4.963559, dtype=float32),\n",
              " array(22.71817, dtype=float32),\n",
              " array(-31.867105, dtype=float32),\n",
              " array(26.594471, dtype=float32),\n",
              " array(-25.59544, dtype=float32),\n",
              " array(-170.97, dtype=float32),\n",
              " array(37.40713, dtype=float32),\n",
              " array(142.68272, dtype=float32),\n",
              " array(74.90808, dtype=float32),\n",
              " array(33.185833, dtype=float32),\n",
              " array(84.7202, dtype=float32),\n",
              " array(34.38937, dtype=float32),\n",
              " array(1.525322, dtype=float32),\n",
              " array(8.688232, dtype=float32),\n",
              " array(92.540565, dtype=float32),\n",
              " array(64.24344, dtype=float32),\n",
              " array(57.50933, dtype=float32),\n",
              " array(-24.453995, dtype=float32),\n",
              " array(54.628777, dtype=float32),\n",
              " array(39.541473, dtype=float32),\n",
              " array(-17.858725, dtype=float32),\n",
              " array(161.89658, dtype=float32),\n",
              " array(-17.393888, dtype=float32),\n",
              " array(-5.161517, dtype=float32),\n",
              " array(22.287298, dtype=float32),\n",
              " array(30.94194, dtype=float32),\n",
              " array(152.29288, dtype=float32),\n",
              " array(106.43185, dtype=float32),\n",
              " array(30.814651, dtype=float32),\n",
              " array(24.08739, dtype=float32),\n",
              " array(58.571064, dtype=float32),\n",
              " array(100.94086, dtype=float32),\n",
              " array(151.20078, dtype=float32),\n",
              " array(58.67912, dtype=float32),\n",
              " array(93.66518, dtype=float32),\n",
              " array(-50.37337, dtype=float32),\n",
              " array(67.23667, dtype=float32),\n",
              " array(116.82023, dtype=float32),\n",
              " array(24.270643, dtype=float32),\n",
              " array(86.38325, dtype=float32),\n",
              " array(66.45162, dtype=float32),\n",
              " array(42.07571, dtype=float32),\n",
              " array(-31.011948, dtype=float32),\n",
              " array(3.9541733, dtype=float32),\n",
              " array(-33.78756, dtype=float32),\n",
              " array(98.33815, dtype=float32),\n",
              " array(79.63776, dtype=float32),\n",
              " array(103.063576, dtype=float32),\n",
              " array(-33.138947, dtype=float32),\n",
              " array(200.80301, dtype=float32),\n",
              " array(78.77672, dtype=float32),\n",
              " array(143.85364, dtype=float32),\n",
              " array(12.390124, dtype=float32),\n",
              " array(109.87632, dtype=float32),\n",
              " array(92.904144, dtype=float32),\n",
              " array(101.5604, dtype=float32),\n",
              " array(116.80471, dtype=float32),\n",
              " array(-28.06985, dtype=float32),\n",
              " array(32.458652, dtype=float32),\n",
              " array(106.585, dtype=float32),\n",
              " array(27.583506, dtype=float32),\n",
              " array(53.25997, dtype=float32),\n",
              " array(-94.682274, dtype=float32),\n",
              " array(94.05752, dtype=float32),\n",
              " array(32.73346, dtype=float32),\n",
              " array(167.75128, dtype=float32),\n",
              " array(173.91338, dtype=float32),\n",
              " array(157.7981, dtype=float32),\n",
              " array(134.14833, dtype=float32),\n",
              " array(146.79176, dtype=float32),\n",
              " array(156.614, dtype=float32),\n",
              " array(173.60727, dtype=float32),\n",
              " array(158.83072, dtype=float32),\n",
              " array(166.57877, dtype=float32),\n",
              " array(101.2802, dtype=float32),\n",
              " array(66.46767, dtype=float32),\n",
              " array(113.904076, dtype=float32),\n",
              " array(158.04413, dtype=float32),\n",
              " array(123.61851, dtype=float32),\n",
              " array(66.67084, dtype=float32),\n",
              " array(90.57321, dtype=float32),\n",
              " array(94.00626, dtype=float32),\n",
              " array(152.78268, dtype=float32),\n",
              " array(116.62803, dtype=float32)]"
            ]
          },
          "metadata": {
            "tags": []
          },
          "execution_count": 38
        }
      ]
    },
    {
      "metadata": {
        "id": "SZA52hRMbTBl",
        "colab_type": "code",
        "colab": {
          "base_uri": "https://localhost:8080/",
          "height": 294
        },
        "outputId": "4cd865c4-2bcd-41f7-d600-917d62fedd71"
      },
      "cell_type": "code",
      "source": [
        "plt.plot(epochs_reinforce, a, label='reinforce train reward')\n",
        "plt.plot(epochs_ac3, b, label='AC3 train reward')\n",
        "plt.xlabel('Episodes')\n",
        "plt.title('Episodes vs Reward for Cartpole Challenge')\n",
        "\n",
        "plt.ylabel('Reward')\n",
        "plt.legend()\n",
        "plt.show()\n",
        "plt.close()"
      ],
      "execution_count": 63,
      "outputs": [
        {
          "output_type": "display_data",
          "data": {
            "image/png": "[encoded data removed]",
            "text/plain": [
              "<matplotlib.figure.Figure at 0x7f4a97985da0>"
            ]
          },
          "metadata": {
            "tags": []
          }
        }
      ]
    },
    {
      "metadata": {
        "id": "Wf9Q5xeRR-bG",
        "colab_type": "code",
        "colab": {
          "base_uri": "https://localhost:8080/",
          "height": 294
        },
        "outputId": "75908907-edcb-40dc-b1bb-609f346ef491"
      },
      "cell_type": "code",
      "source": [
        "plt.plot(epochs_reinforce_LunarL, a_LL, label='reinforce train reward')\n",
        "plt.plot(epochs_ac3_LunarL, b_LL, label='AC3 train reward')\n",
        "plt.xlabel('Episodes')\n",
        "plt.title('Episodes vs Reward for Lunar-Lander-v2 Challenge')\n",
        "\n",
        "plt.ylabel('Reward')\n",
        "plt.legend()\n",
        "plt.show()\n",
        "plt.close()"
      ],
      "execution_count": 42,
      "outputs": [
        {
          "output_type": "display_data",
          "data": {
            "image/png": "[encoded data removed]",
            "text/plain": [
              "<matplotlib.figure.Figure at 0x7f4a97a11c88>"
            ]
          },
          "metadata": {
            "tags": []
          }
        }
      ]
    },
    {
      "metadata": {
        "id": "aoxosJm0JCHQ",
        "colab_type": "code",
        "colab": {}
      },
      "cell_type": "code",
      "source": [
        ""
      ],
      "execution_count": 0,
      "outputs": []
    }
  ]
}